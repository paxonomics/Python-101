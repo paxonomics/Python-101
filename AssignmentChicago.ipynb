{
 "cells": [
  {
   "cell_type": "markdown",
   "metadata": {},
   "source": [
    "<center>\n",
    "    <img src=\"https://cf-courses-data.s3.us.cloud-object-storage.appdomain.cloud/IBMDeveloperSkillsNetwork-DB0201EN-SkillsNetwork/labs/FinalModule_Coursera_V5/images/SN_web_lightmode.png\" width=\"300\" alt=\"cognitiveclass.ai logo\">\n",
    "</center>\n",
    "\n",
    "<h1 align=center><font size = 5>Assignment: Notebook for Peer Assignment</font></h1>\n"
   ]
  },
  {
   "cell_type": "markdown",
   "metadata": {},
   "source": [
    "# Introduction\n",
    "\n",
    "Using this Python notebook you will:\n",
    "\n",
    "1.  Understand three Chicago datasets\n",
    "2.  Load the three datasets into three tables in a SQLIte database\n",
    "3.  Execute SQL queries to answer assignment questions\n"
   ]
  },
  {
   "cell_type": "markdown",
   "metadata": {},
   "source": [
    "## Understand the datasets\n",
    "\n",
    "To complete the assignment problems in this notebook you will be using three datasets that are available on the city of Chicago's Data Portal:\n",
    "\n",
    "1.  <a href=\"https://data.cityofchicago.org/Health-Human-Services/Census-Data-Selected-socioeconomic-indicators-in-C/kn9c-c2s2?utm_medium=Exinfluencer&utm_source=Exinfluencer&utm_content=000026UJ&utm_term=10006555&utm_id=NA-SkillsNetwork-Channel-SkillsNetworkCoursesIBMDeveloperSkillsNetworkDB0201ENSkillsNetwork20127838-2021-01-01\">Socioeconomic Indicators in Chicago</a>\n",
    "2.  <a href=\"https://data.cityofchicago.org/Education/Chicago-Public-Schools-Progress-Report-Cards-2011-/9xs2-f89t?utm_medium=Exinfluencer&utm_source=Exinfluencer&utm_content=000026UJ&utm_term=10006555&utm_id=NA-SkillsNetwork-Channel-SkillsNetworkCoursesIBMDeveloperSkillsNetworkDB0201ENSkillsNetwork20127838-2021-01-01\">Chicago Public Schools</a>\n",
    "3.  <a href=\"https://data.cityofchicago.org/Public-Safety/Crimes-2001-to-present/ijzp-q8t2?utm_medium=Exinfluencer&utm_source=Exinfluencer&utm_content=000026UJ&utm_term=10006555&utm_id=NA-SkillsNetwork-Channel-SkillsNetworkCoursesIBMDeveloperSkillsNetworkDB0201ENSkillsNetwork20127838-2021-01-01\">Chicago Crime Data</a>\n",
    "\n",
    "### 1. Socioeconomic Indicators in Chicago\n",
    "\n",
    "This dataset contains a selection of six socioeconomic indicators of public health significance and a “hardship index,” for each Chicago community area, for the years 2008 – 2012.\n",
    "\n",
    "A detailed description of this dataset and the original dataset can be obtained from the Chicago Data Portal at:\n",
    "[https://data.cityofchicago.org/Health-Human-Services/Census-Data-Selected-socioeconomic-indicators-in-C/kn9c-c2s2](https://data.cityofchicago.org/Health-Human-Services/Census-Data-Selected-socioeconomic-indicators-in-C/kn9c-c2s2?utm_medium=Exinfluencer&utm_source=Exinfluencer&utm_content=000026UJ&utm_term=10006555&utm_id=NA-SkillsNetwork-Channel-SkillsNetworkCoursesIBMDeveloperSkillsNetworkDB0201ENSkillsNetwork20127838-2021-01-01&cm_mmc=Email_Newsletter-_-Developer_Ed%2BTech-_-WW_WW-_-SkillsNetwork-Courses-IBMDeveloperSkillsNetwork-DB0201EN-SkillsNetwork-20127838&cm_mmca1=000026UJ&cm_mmca2=10006555&cm_mmca3=M12345678&cvosrc=email.Newsletter.M12345678&cvo_campaign=000026UJ)\n",
    "\n",
    "### 2. Chicago Public Schools\n",
    "\n",
    "This dataset shows all school level performance data used to create CPS School Report Cards for the 2011-2012 school year. This dataset is provided by the city of Chicago's Data Portal.\n",
    "\n",
    "A detailed description of this dataset and the original dataset can be obtained from the Chicago Data Portal at:\n",
    "[https://data.cityofchicago.org/Education/Chicago-Public-Schools-Progress-Report-Cards-2011-/9xs2-f89t](https://data.cityofchicago.org/Education/Chicago-Public-Schools-Progress-Report-Cards-2011-/9xs2-f89t?utm_medium=Exinfluencer&utm_source=Exinfluencer&utm_content=000026UJ&utm_term=10006555&utm_id=NA-SkillsNetwork-Channel-SkillsNetworkCoursesIBMDeveloperSkillsNetworkDB0201ENSkillsNetwork20127838-2021-01-01&cm_mmc=Email_Newsletter-_-Developer_Ed%2BTech-_-WW_WW-_-SkillsNetwork-Courses-IBMDeveloperSkillsNetwork-DB0201EN-SkillsNetwork-20127838&cm_mmca1=000026UJ&cm_mmca2=10006555&cm_mmca3=M12345678&cvosrc=email.Newsletter.M12345678&cvo_campaign=000026UJ)\n",
    "\n",
    "### 3. Chicago Crime Data\n",
    "\n",
    "This dataset reflects reported incidents of crime (with the exception of murders where data exists for each victim) that occurred in the City of Chicago from 2001 to present, minus the most recent seven days.\n",
    "\n",
    "A detailed description of this dataset and the original dataset can be obtained from the Chicago Data Portal at:\n",
    "[https://data.cityofchicago.org/Public-Safety/Crimes-2001-to-present/ijzp-q8t2](https://data.cityofchicago.org/Public-Safety/Crimes-2001-to-present/ijzp-q8t2?utm_medium=Exinfluencer&utm_source=Exinfluencer&utm_content=000026UJ&utm_term=10006555&utm_id=NA-SkillsNetwork-Channel-SkillsNetworkCoursesIBMDeveloperSkillsNetworkDB0201ENSkillsNetwork20127838-2021-01-01&cm_mmc=Email_Newsletter-_-Developer_Ed%2BTech-_-WW_WW-_-SkillsNetwork-Courses-IBMDeveloperSkillsNetwork-DB0201EN-SkillsNetwork-20127838&cm_mmca1=000026UJ&cm_mmca2=10006555&cm_mmca3=M12345678&cvosrc=email.Newsletter.M12345678&cvo_campaign=000026UJ)\n"
   ]
  },
  {
   "cell_type": "markdown",
   "metadata": {},
   "source": [
    "### Download the datasets\n",
    "\n",
    "This assignment requires you to have these three tables populated with a subset of the whole datasets.\n",
    "\n",
    "In many cases the dataset to be analyzed is available as a .CSV (comma separated values) file, perhaps on the internet. Click on the links below to download and save the datasets (.CSV files):\n",
    "\n",
    "*   <a href=\"https://cf-courses-data.s3.us.cloud-object-storage.appdomain.cloud/IBMDeveloperSkillsNetwork-DB0201EN-SkillsNetwork/labs/FinalModule_Coursera_V5/data/ChicagoCensusData.csv?utm_medium=Exinfluencer&utm_source=Exinfluencer&utm_content=000026UJ&utm_term=10006555&utm_id=NA-SkillsNetwork-Channel-SkillsNetworkCoursesIBMDeveloperSkillsNetworkDB0201ENSkillsNetwork20127838-2021-01-01\" target=\"_blank\">Chicago Census Data</a>\n",
    "\n",
    "*   <a href=\"https://cf-courses-data.s3.us.cloud-object-storage.appdomain.cloud/IBMDeveloperSkillsNetwork-DB0201EN-SkillsNetwork/labs/FinalModule_Coursera_V5/data/ChicagoPublicSchools.csv?utm_medium=Exinfluencer&utm_source=Exinfluencer&utm_content=000026UJ&utm_term=10006555&utm_id=NA-SkillsNetwork-Channel-SkillsNetworkCoursesIBMDeveloperSkillsNetworkDB0201ENSkillsNetwork20127838-2021-01-01\" target=\"_blank\">Chicago Public Schools</a>\n",
    "\n",
    "*   <a href=\"https://cf-courses-data.s3.us.cloud-object-storage.appdomain.cloud/IBMDeveloperSkillsNetwork-DB0201EN-SkillsNetwork/labs/FinalModule_Coursera_V5/data/ChicagoCrimeData.csv?utm_medium=Exinfluencer&utm_source=Exinfluencer&utm_content=000026UJ&utm_term=10006555&utm_id=NA-SkillsNetwork-Channel-SkillsNetworkCoursesIBMDeveloperSkillsNetworkDB0201ENSkillsNetwork20127838-2021-01-01\" target=\"_blank\">Chicago Crime Data</a>\n",
    "\n",
    "**NOTE:** Ensure you have downloaded the datasets using the links above instead of directly from the Chicago Data Portal. The versions linked here are subsets of the original datasets and have some of the column names modified to be more database friendly which will make it easier to complete this assignment.\n"
   ]
  },
  {
   "cell_type": "markdown",
   "metadata": {},
   "source": [
    "### Store the datasets in database tables\n",
    "\n",
    "To analyze the data using SQL, it first needs to be loaded into SQLite DB.\n",
    "We will create three tables in as under:\n",
    "\n",
    "1.  **CENSUS_DATA**\n",
    "2.  **CHICAGO_PUBLIC_SCHOOLS**\n",
    "3.  **CHICAGO_CRIME_DATA**\n",
    "\n",
    "Let us now load the ipython-sql  extension and establish a connection with the database\n",
    "\n",
    "* Here you will be loading the csv files into the pandas Dataframe and then loading the data into the above mentioned sqlite tables.\n",
    "\n",
    "* Next you will be connecting to the sqlite database  **FinalDB**.\n",
    "\n",
    "Refer to the previous lab for hints .\n",
    "\n",
    "<a href =\"https://cf-courses-data.s3.us.cloud-object-storage.appdomain.cloud/IBMDeveloperSkillsNetwork-DB0201EN-SkillsNetwork/labs/Module%205/DB0201EN-Week3-1-4-Analyzing_SQLite.ipynb\">Hands-on Lab: Analyzing a real World Data Set</a>\n",
    "\n",
    "\n",
    "\n"
   ]
  },
  {
   "cell_type": "code",
   "execution_count": 1,
   "metadata": {
    "tags": []
   },
   "outputs": [],
   "source": [
    "%load_ext sql"
   ]
  },
  {
   "cell_type": "code",
   "execution_count": 2,
   "metadata": {
    "tags": []
   },
   "outputs": [
    {
     "data": {
      "text/plain": [
       "'Connected: zgx30761@BLUDB'"
      ]
     },
     "execution_count": 2,
     "metadata": {},
     "output_type": "execute_result"
    }
   ],
   "source": [
    "%sql ibm_db_sa://zgx30761:sOn8igbAf01EOSM2@824dfd4d-99de-440d-9991-629c01b3832d.bs2io90l08kqb1od8lcg.databases.appdomain.cloud:30119/BLUDB?security=SSL"
   ]
  },
  {
   "cell_type": "code",
   "execution_count": 3,
   "metadata": {
    "tags": []
   },
   "outputs": [],
   "source": [
    "!pip install -q pandas==1.1.5"
   ]
  },
  {
   "cell_type": "code",
   "execution_count": 4,
   "metadata": {
    "tags": []
   },
   "outputs": [
    {
     "name": "stdout",
     "output_type": "stream",
     "text": [
      " * ibm_db_sa://zgx30761:***@824dfd4d-99de-440d-9991-629c01b3832d.bs2io90l08kqb1od8lcg.databases.appdomain.cloud:30119/BLUDB\n",
      "Done.\n"
     ]
    },
    {
     "data": {
      "text/html": [
       "<table>\n",
       "    <thead>\n",
       "        <tr>\n",
       "            <th>tabschema</th>\n",
       "            <th>tabname</th>\n",
       "            <th>create_time</th>\n",
       "        </tr>\n",
       "    </thead>\n",
       "    <tbody>\n",
       "        <tr>\n",
       "            <td>ZGX30761</td>\n",
       "            <td>COUNTRY</td>\n",
       "            <td>2023-04-24 15:00:51.139678</td>\n",
       "        </tr>\n",
       "        <tr>\n",
       "            <td>ZGX30761</td>\n",
       "            <td>PETSALE</td>\n",
       "            <td>2023-04-24 16:52:07.745712</td>\n",
       "        </tr>\n",
       "        <tr>\n",
       "            <td>ZGX30761</td>\n",
       "            <td>EMPLOYEES</td>\n",
       "            <td>2023-04-24 17:55:56.803464</td>\n",
       "        </tr>\n",
       "        <tr>\n",
       "            <td>ZGX30761</td>\n",
       "            <td>JOB_HISTORY</td>\n",
       "            <td>2023-04-24 17:55:56.896871</td>\n",
       "        </tr>\n",
       "        <tr>\n",
       "            <td>ZGX30761</td>\n",
       "            <td>JOBS</td>\n",
       "            <td>2023-04-24 17:55:56.987253</td>\n",
       "        </tr>\n",
       "        <tr>\n",
       "            <td>ZGX30761</td>\n",
       "            <td>DEPARTMENTS</td>\n",
       "            <td>2023-04-24 17:55:57.078383</td>\n",
       "        </tr>\n",
       "        <tr>\n",
       "            <td>ZGX30761</td>\n",
       "            <td>LOCATIONS</td>\n",
       "            <td>2023-04-24 17:55:57.167289</td>\n",
       "        </tr>\n",
       "        <tr>\n",
       "            <td>ZGX30761</td>\n",
       "            <td>PETRESCUE</td>\n",
       "            <td>2023-04-26 11:50:33.409307</td>\n",
       "        </tr>\n",
       "        <tr>\n",
       "            <td>ZGX30761</td>\n",
       "            <td>INSTRUCTOR</td>\n",
       "            <td>2023-04-28 13:19:13.295837</td>\n",
       "        </tr>\n",
       "        <tr>\n",
       "            <td>ZGX30761</td>\n",
       "            <td>INTERNATIONAL_STUDENT_TEST_SCORES</td>\n",
       "            <td>2023-05-01 13:41:53.801215</td>\n",
       "        </tr>\n",
       "        <tr>\n",
       "            <td>ZGX30761</td>\n",
       "            <td>CHICAGO_SOCIOECONOMIC_DATA</td>\n",
       "            <td>2023-05-02 13:47:40.305743</td>\n",
       "        </tr>\n",
       "        <tr>\n",
       "            <td>ZGX30761</td>\n",
       "            <td>SCHOOLS</td>\n",
       "            <td>2023-05-03 11:26:06.357831</td>\n",
       "        </tr>\n",
       "        <tr>\n",
       "            <td>ZGX30761</td>\n",
       "            <td>CENSUS_DATA</td>\n",
       "            <td>2023-05-10 16:18:33.291476</td>\n",
       "        </tr>\n",
       "        <tr>\n",
       "            <td>ZGX30761</td>\n",
       "            <td>CRIME_DATA</td>\n",
       "            <td>2023-05-10 16:39:09.716757</td>\n",
       "        </tr>\n",
       "        <tr>\n",
       "            <td>ZGX30761</td>\n",
       "            <td>SCHOOLS_DATA</td>\n",
       "            <td>2023-05-10 16:41:12.155864</td>\n",
       "        </tr>\n",
       "    </tbody>\n",
       "</table>"
      ],
      "text/plain": [
       "[('ZGX30761', 'COUNTRY', datetime.datetime(2023, 4, 24, 15, 0, 51, 139678)),\n",
       " ('ZGX30761', 'PETSALE', datetime.datetime(2023, 4, 24, 16, 52, 7, 745712)),\n",
       " ('ZGX30761', 'EMPLOYEES', datetime.datetime(2023, 4, 24, 17, 55, 56, 803464)),\n",
       " ('ZGX30761', 'JOB_HISTORY', datetime.datetime(2023, 4, 24, 17, 55, 56, 896871)),\n",
       " ('ZGX30761', 'JOBS', datetime.datetime(2023, 4, 24, 17, 55, 56, 987253)),\n",
       " ('ZGX30761', 'DEPARTMENTS', datetime.datetime(2023, 4, 24, 17, 55, 57, 78383)),\n",
       " ('ZGX30761', 'LOCATIONS', datetime.datetime(2023, 4, 24, 17, 55, 57, 167289)),\n",
       " ('ZGX30761', 'PETRESCUE', datetime.datetime(2023, 4, 26, 11, 50, 33, 409307)),\n",
       " ('ZGX30761', 'INSTRUCTOR', datetime.datetime(2023, 4, 28, 13, 19, 13, 295837)),\n",
       " ('ZGX30761', 'INTERNATIONAL_STUDENT_TEST_SCORES', datetime.datetime(2023, 5, 1, 13, 41, 53, 801215)),\n",
       " ('ZGX30761', 'CHICAGO_SOCIOECONOMIC_DATA', datetime.datetime(2023, 5, 2, 13, 47, 40, 305743)),\n",
       " ('ZGX30761', 'SCHOOLS', datetime.datetime(2023, 5, 3, 11, 26, 6, 357831)),\n",
       " ('ZGX30761', 'CENSUS_DATA', datetime.datetime(2023, 5, 10, 16, 18, 33, 291476)),\n",
       " ('ZGX30761', 'CRIME_DATA', datetime.datetime(2023, 5, 10, 16, 39, 9, 716757)),\n",
       " ('ZGX30761', 'SCHOOLS_DATA', datetime.datetime(2023, 5, 10, 16, 41, 12, 155864))]"
      ]
     },
     "execution_count": 4,
     "metadata": {},
     "output_type": "execute_result"
    }
   ],
   "source": [
    "%sql select tabschema, tabname, create_time from SYSCAT.TABLES where tabschema = 'ZGX30761'"
   ]
  },
  {
   "cell_type": "code",
   "execution_count": 69,
   "metadata": {
    "tags": []
   },
   "outputs": [
    {
     "name": "stdout",
     "output_type": "stream",
     "text": [
      " * ibm_db_sa://zgx30761:***@824dfd4d-99de-440d-9991-629c01b3832d.bs2io90l08kqb1od8lcg.databases.appdomain.cloud:30119/BLUDB\n",
      "Done.\n"
     ]
    },
    {
     "data": {
      "text/html": [
       "<table>\n",
       "    <thead>\n",
       "        <tr>\n",
       "            <th>tabname</th>\n",
       "            <th>colname</th>\n",
       "        </tr>\n",
       "    </thead>\n",
       "    <tbody>\n",
       "        <tr>\n",
       "            <td>SCHOOLS_DATA</td>\n",
       "            <td>10th Grade PLAN (2009)</td>\n",
       "        </tr>\n",
       "        <tr>\n",
       "            <td>SCHOOLS_DATA</td>\n",
       "            <td>10th Grade PLAN (2010)</td>\n",
       "        </tr>\n",
       "        <tr>\n",
       "            <td>SCHOOLS_DATA</td>\n",
       "            <td>11th Grade Average ACT (2011)</td>\n",
       "        </tr>\n",
       "        <tr>\n",
       "            <td>SCHOOLS_DATA</td>\n",
       "            <td>9th Grade EXPLORE (2009)</td>\n",
       "        </tr>\n",
       "        <tr>\n",
       "            <td>SCHOOLS_DATA</td>\n",
       "            <td>9th Grade EXPLORE (2010)</td>\n",
       "        </tr>\n",
       "        <tr>\n",
       "            <td>SCHOOLS_DATA</td>\n",
       "            <td>ADEQUATE_YEARLY_PROGRESS_MADE_</td>\n",
       "        </tr>\n",
       "        <tr>\n",
       "            <td>SCHOOLS_DATA</td>\n",
       "            <td>AVERAGE_STUDENT_ATTENDANCE</td>\n",
       "        </tr>\n",
       "        <tr>\n",
       "            <td>SCHOOLS_DATA</td>\n",
       "            <td>AVERAGE_TEACHER_ATTENDANCE</td>\n",
       "        </tr>\n",
       "        <tr>\n",
       "            <td>SCHOOLS_DATA</td>\n",
       "            <td>CITY</td>\n",
       "        </tr>\n",
       "        <tr>\n",
       "            <td>SCHOOLS_DATA</td>\n",
       "            <td>COLLABORATIVE_NAME</td>\n",
       "        </tr>\n",
       "        <tr>\n",
       "            <td>SCHOOLS_DATA</td>\n",
       "            <td>COLLEGE_ELIGIBILITY__</td>\n",
       "        </tr>\n",
       "        <tr>\n",
       "            <td>SCHOOLS_DATA</td>\n",
       "            <td>COLLEGE_ENROLLMENT</td>\n",
       "        </tr>\n",
       "        <tr>\n",
       "            <td>SCHOOLS_DATA</td>\n",
       "            <td>COLLEGE_ENROLLMENT_RATE__</td>\n",
       "        </tr>\n",
       "        <tr>\n",
       "            <td>SCHOOLS_DATA</td>\n",
       "            <td>COMMUNITY_AREA_NAME</td>\n",
       "        </tr>\n",
       "        <tr>\n",
       "            <td>SCHOOLS_DATA</td>\n",
       "            <td>COMMUNITY_AREA_NUMBER</td>\n",
       "        </tr>\n",
       "        <tr>\n",
       "            <td>SCHOOLS_DATA</td>\n",
       "            <td>CPS_PERFORMANCE_POLICY_LEVEL</td>\n",
       "        </tr>\n",
       "        <tr>\n",
       "            <td>SCHOOLS_DATA</td>\n",
       "            <td>CPS_PERFORMANCE_POLICY_STATUS</td>\n",
       "        </tr>\n",
       "        <tr>\n",
       "            <td>SCHOOLS_DATA</td>\n",
       "            <td>ELEMENTARY__MIDDLE__OR_HIGH_SCHOOL</td>\n",
       "        </tr>\n",
       "        <tr>\n",
       "            <td>SCHOOLS_DATA</td>\n",
       "            <td>ENVIRONMENT_ICON</td>\n",
       "        </tr>\n",
       "        <tr>\n",
       "            <td>SCHOOLS_DATA</td>\n",
       "            <td>ENVIRONMENT_SCORE</td>\n",
       "        </tr>\n",
       "        <tr>\n",
       "            <td>SCHOOLS_DATA</td>\n",
       "            <td>FAMILY_INVOLVEMENT_ICON</td>\n",
       "        </tr>\n",
       "        <tr>\n",
       "            <td>SCHOOLS_DATA</td>\n",
       "            <td>FAMILY_INVOLVEMENT_SCORE</td>\n",
       "        </tr>\n",
       "        <tr>\n",
       "            <td>SCHOOLS_DATA</td>\n",
       "            <td>FRESHMAN_ON_TRACK_RATE__</td>\n",
       "        </tr>\n",
       "        <tr>\n",
       "            <td>SCHOOLS_DATA</td>\n",
       "            <td>GENERAL_SERVICES_ROUTE</td>\n",
       "        </tr>\n",
       "        <tr>\n",
       "            <td>SCHOOLS_DATA</td>\n",
       "            <td>GR3_5_GRADE_LEVEL_MATH__</td>\n",
       "        </tr>\n",
       "        <tr>\n",
       "            <td>SCHOOLS_DATA</td>\n",
       "            <td>GR3_5_GRADE_LEVEL_READ__</td>\n",
       "        </tr>\n",
       "        <tr>\n",
       "            <td>SCHOOLS_DATA</td>\n",
       "            <td>GR3_5_KEEP_PACE_MATH__</td>\n",
       "        </tr>\n",
       "        <tr>\n",
       "            <td>SCHOOLS_DATA</td>\n",
       "            <td>GR3_5_KEEP_PACE_READ__</td>\n",
       "        </tr>\n",
       "        <tr>\n",
       "            <td>SCHOOLS_DATA</td>\n",
       "            <td>GR6_8_GRADE_LEVEL_MATH__</td>\n",
       "        </tr>\n",
       "        <tr>\n",
       "            <td>SCHOOLS_DATA</td>\n",
       "            <td>GR6_8_GRADE_LEVEL_READ__</td>\n",
       "        </tr>\n",
       "        <tr>\n",
       "            <td>SCHOOLS_DATA</td>\n",
       "            <td>GR6_8_KEEP_PACE_MATH_</td>\n",
       "        </tr>\n",
       "        <tr>\n",
       "            <td>SCHOOLS_DATA</td>\n",
       "            <td>GR6_8_KEEP_PACE_READ__</td>\n",
       "        </tr>\n",
       "        <tr>\n",
       "            <td>SCHOOLS_DATA</td>\n",
       "            <td>GRADUATION_RATE__</td>\n",
       "        </tr>\n",
       "        <tr>\n",
       "            <td>SCHOOLS_DATA</td>\n",
       "            <td>GR_8_EXPLORE_MATH__</td>\n",
       "        </tr>\n",
       "        <tr>\n",
       "            <td>SCHOOLS_DATA</td>\n",
       "            <td>GR_8_EXPLORE_READ__</td>\n",
       "        </tr>\n",
       "        <tr>\n",
       "            <td>SCHOOLS_DATA</td>\n",
       "            <td>HEALTHY_SCHOOL_CERTIFIED</td>\n",
       "        </tr>\n",
       "        <tr>\n",
       "            <td>SCHOOLS_DATA</td>\n",
       "            <td>INDIVIDUALIZED_EDUCATION_PROGRAM_COMPLIANCE_RATE</td>\n",
       "        </tr>\n",
       "        <tr>\n",
       "            <td>SCHOOLS_DATA</td>\n",
       "            <td>INSTRUCTION_ICON</td>\n",
       "        </tr>\n",
       "        <tr>\n",
       "            <td>SCHOOLS_DATA</td>\n",
       "            <td>INSTRUCTION_SCORE</td>\n",
       "        </tr>\n",
       "        <tr>\n",
       "            <td>SCHOOLS_DATA</td>\n",
       "            <td>ISAT_EXCEEDING_MATH__</td>\n",
       "        </tr>\n",
       "        <tr>\n",
       "            <td>SCHOOLS_DATA</td>\n",
       "            <td>ISAT_EXCEEDING_READING__</td>\n",
       "        </tr>\n",
       "        <tr>\n",
       "            <td>SCHOOLS_DATA</td>\n",
       "            <td>ISAT_VALUE_ADD_COLOR_MATH</td>\n",
       "        </tr>\n",
       "        <tr>\n",
       "            <td>SCHOOLS_DATA</td>\n",
       "            <td>ISAT_VALUE_ADD_COLOR_READ</td>\n",
       "        </tr>\n",
       "        <tr>\n",
       "            <td>SCHOOLS_DATA</td>\n",
       "            <td>ISAT_VALUE_ADD_MATH</td>\n",
       "        </tr>\n",
       "        <tr>\n",
       "            <td>SCHOOLS_DATA</td>\n",
       "            <td>ISAT_VALUE_ADD_READ</td>\n",
       "        </tr>\n",
       "        <tr>\n",
       "            <td>SCHOOLS_DATA</td>\n",
       "            <td>LATITUDE</td>\n",
       "        </tr>\n",
       "        <tr>\n",
       "            <td>SCHOOLS_DATA</td>\n",
       "            <td>LEADERS_ICON</td>\n",
       "        </tr>\n",
       "        <tr>\n",
       "            <td>SCHOOLS_DATA</td>\n",
       "            <td>LEADERS_SCORE</td>\n",
       "        </tr>\n",
       "        <tr>\n",
       "            <td>SCHOOLS_DATA</td>\n",
       "            <td>LINK</td>\n",
       "        </tr>\n",
       "        <tr>\n",
       "            <td>SCHOOLS_DATA</td>\n",
       "            <td>LOCATION</td>\n",
       "        </tr>\n",
       "        <tr>\n",
       "            <td>SCHOOLS_DATA</td>\n",
       "            <td>LONGITUDE</td>\n",
       "        </tr>\n",
       "        <tr>\n",
       "            <td>SCHOOLS_DATA</td>\n",
       "            <td>NAME_OF_SCHOOL</td>\n",
       "        </tr>\n",
       "        <tr>\n",
       "            <td>SCHOOLS_DATA</td>\n",
       "            <td>NETWORK_MANAGER</td>\n",
       "        </tr>\n",
       "        <tr>\n",
       "            <td>SCHOOLS_DATA</td>\n",
       "            <td>NET_CHANGE_EXPLORE_AND_PLAN</td>\n",
       "        </tr>\n",
       "        <tr>\n",
       "            <td>SCHOOLS_DATA</td>\n",
       "            <td>NET_CHANGE_PLAN_AND_ACT</td>\n",
       "        </tr>\n",
       "        <tr>\n",
       "            <td>SCHOOLS_DATA</td>\n",
       "            <td>PARENT_ENGAGEMENT_ICON</td>\n",
       "        </tr>\n",
       "        <tr>\n",
       "            <td>SCHOOLS_DATA</td>\n",
       "            <td>PARENT_ENGAGEMENT_SCORE</td>\n",
       "        </tr>\n",
       "        <tr>\n",
       "            <td>SCHOOLS_DATA</td>\n",
       "            <td>PARENT_ENVIRONMENT_ICON</td>\n",
       "        </tr>\n",
       "        <tr>\n",
       "            <td>SCHOOLS_DATA</td>\n",
       "            <td>PARENT_ENVIRONMENT_SCORE</td>\n",
       "        </tr>\n",
       "        <tr>\n",
       "            <td>SCHOOLS_DATA</td>\n",
       "            <td>PHONE_NUMBER</td>\n",
       "        </tr>\n",
       "        <tr>\n",
       "            <td>SCHOOLS_DATA</td>\n",
       "            <td>PK_2_LITERACY__</td>\n",
       "        </tr>\n",
       "        <tr>\n",
       "            <td>SCHOOLS_DATA</td>\n",
       "            <td>PK_2_MATH__</td>\n",
       "        </tr>\n",
       "        <tr>\n",
       "            <td>SCHOOLS_DATA</td>\n",
       "            <td>POLICE_DISTRICT</td>\n",
       "        </tr>\n",
       "        <tr>\n",
       "            <td>SCHOOLS_DATA</td>\n",
       "            <td>RATE_OF_MISCONDUCTS__PER_100_STUDENTS_</td>\n",
       "        </tr>\n",
       "        <tr>\n",
       "            <td>SCHOOLS_DATA</td>\n",
       "            <td>SAFETY_ICON</td>\n",
       "        </tr>\n",
       "        <tr>\n",
       "            <td>SCHOOLS_DATA</td>\n",
       "            <td>SAFETY_SCORE</td>\n",
       "        </tr>\n",
       "        <tr>\n",
       "            <td>SCHOOLS_DATA</td>\n",
       "            <td>SCHOOL_ID</td>\n",
       "        </tr>\n",
       "        <tr>\n",
       "            <td>SCHOOLS_DATA</td>\n",
       "            <td>STATE</td>\n",
       "        </tr>\n",
       "        <tr>\n",
       "            <td>SCHOOLS_DATA</td>\n",
       "            <td>STREET_ADDRESS</td>\n",
       "        </tr>\n",
       "        <tr>\n",
       "            <td>SCHOOLS_DATA</td>\n",
       "            <td>STUDENTS_PASSING__ALGEBRA__</td>\n",
       "        </tr>\n",
       "        <tr>\n",
       "            <td>SCHOOLS_DATA</td>\n",
       "            <td>STUDENTS_TAKING__ALGEBRA__</td>\n",
       "        </tr>\n",
       "        <tr>\n",
       "            <td>SCHOOLS_DATA</td>\n",
       "            <td>TEACHERS_ICON</td>\n",
       "        </tr>\n",
       "        <tr>\n",
       "            <td>SCHOOLS_DATA</td>\n",
       "            <td>TEACHERS_SCORE</td>\n",
       "        </tr>\n",
       "        <tr>\n",
       "            <td>SCHOOLS_DATA</td>\n",
       "            <td>TRACK_SCHEDULE</td>\n",
       "        </tr>\n",
       "        <tr>\n",
       "            <td>SCHOOLS_DATA</td>\n",
       "            <td>WARD</td>\n",
       "        </tr>\n",
       "        <tr>\n",
       "            <td>SCHOOLS_DATA</td>\n",
       "            <td>X_COORDINATE</td>\n",
       "        </tr>\n",
       "        <tr>\n",
       "            <td>SCHOOLS_DATA</td>\n",
       "            <td>Y_COORDINATE</td>\n",
       "        </tr>\n",
       "        <tr>\n",
       "            <td>SCHOOLS_DATA</td>\n",
       "            <td>ZIP_CODE</td>\n",
       "        </tr>\n",
       "    </tbody>\n",
       "</table>"
      ],
      "text/plain": [
       "[('SCHOOLS_DATA', '10th Grade PLAN (2009)'),\n",
       " ('SCHOOLS_DATA', '10th Grade PLAN (2010)'),\n",
       " ('SCHOOLS_DATA', '11th Grade Average ACT (2011)'),\n",
       " ('SCHOOLS_DATA', '9th Grade EXPLORE (2009)'),\n",
       " ('SCHOOLS_DATA', '9th Grade EXPLORE (2010)'),\n",
       " ('SCHOOLS_DATA', 'ADEQUATE_YEARLY_PROGRESS_MADE_'),\n",
       " ('SCHOOLS_DATA', 'AVERAGE_STUDENT_ATTENDANCE'),\n",
       " ('SCHOOLS_DATA', 'AVERAGE_TEACHER_ATTENDANCE'),\n",
       " ('SCHOOLS_DATA', 'CITY'),\n",
       " ('SCHOOLS_DATA', 'COLLABORATIVE_NAME'),\n",
       " ('SCHOOLS_DATA', 'COLLEGE_ELIGIBILITY__'),\n",
       " ('SCHOOLS_DATA', 'COLLEGE_ENROLLMENT'),\n",
       " ('SCHOOLS_DATA', 'COLLEGE_ENROLLMENT_RATE__'),\n",
       " ('SCHOOLS_DATA', 'COMMUNITY_AREA_NAME'),\n",
       " ('SCHOOLS_DATA', 'COMMUNITY_AREA_NUMBER'),\n",
       " ('SCHOOLS_DATA', 'CPS_PERFORMANCE_POLICY_LEVEL'),\n",
       " ('SCHOOLS_DATA', 'CPS_PERFORMANCE_POLICY_STATUS'),\n",
       " ('SCHOOLS_DATA', 'ELEMENTARY__MIDDLE__OR_HIGH_SCHOOL'),\n",
       " ('SCHOOLS_DATA', 'ENVIRONMENT_ICON'),\n",
       " ('SCHOOLS_DATA', 'ENVIRONMENT_SCORE'),\n",
       " ('SCHOOLS_DATA', 'FAMILY_INVOLVEMENT_ICON'),\n",
       " ('SCHOOLS_DATA', 'FAMILY_INVOLVEMENT_SCORE'),\n",
       " ('SCHOOLS_DATA', 'FRESHMAN_ON_TRACK_RATE__'),\n",
       " ('SCHOOLS_DATA', 'GENERAL_SERVICES_ROUTE'),\n",
       " ('SCHOOLS_DATA', 'GR3_5_GRADE_LEVEL_MATH__'),\n",
       " ('SCHOOLS_DATA', 'GR3_5_GRADE_LEVEL_READ__'),\n",
       " ('SCHOOLS_DATA', 'GR3_5_KEEP_PACE_MATH__'),\n",
       " ('SCHOOLS_DATA', 'GR3_5_KEEP_PACE_READ__'),\n",
       " ('SCHOOLS_DATA', 'GR6_8_GRADE_LEVEL_MATH__'),\n",
       " ('SCHOOLS_DATA', 'GR6_8_GRADE_LEVEL_READ__'),\n",
       " ('SCHOOLS_DATA', 'GR6_8_KEEP_PACE_MATH_'),\n",
       " ('SCHOOLS_DATA', 'GR6_8_KEEP_PACE_READ__'),\n",
       " ('SCHOOLS_DATA', 'GRADUATION_RATE__'),\n",
       " ('SCHOOLS_DATA', 'GR_8_EXPLORE_MATH__'),\n",
       " ('SCHOOLS_DATA', 'GR_8_EXPLORE_READ__'),\n",
       " ('SCHOOLS_DATA', 'HEALTHY_SCHOOL_CERTIFIED'),\n",
       " ('SCHOOLS_DATA', 'INDIVIDUALIZED_EDUCATION_PROGRAM_COMPLIANCE_RATE'),\n",
       " ('SCHOOLS_DATA', 'INSTRUCTION_ICON'),\n",
       " ('SCHOOLS_DATA', 'INSTRUCTION_SCORE'),\n",
       " ('SCHOOLS_DATA', 'ISAT_EXCEEDING_MATH__'),\n",
       " ('SCHOOLS_DATA', 'ISAT_EXCEEDING_READING__'),\n",
       " ('SCHOOLS_DATA', 'ISAT_VALUE_ADD_COLOR_MATH'),\n",
       " ('SCHOOLS_DATA', 'ISAT_VALUE_ADD_COLOR_READ'),\n",
       " ('SCHOOLS_DATA', 'ISAT_VALUE_ADD_MATH'),\n",
       " ('SCHOOLS_DATA', 'ISAT_VALUE_ADD_READ'),\n",
       " ('SCHOOLS_DATA', 'LATITUDE'),\n",
       " ('SCHOOLS_DATA', 'LEADERS_ICON'),\n",
       " ('SCHOOLS_DATA', 'LEADERS_SCORE'),\n",
       " ('SCHOOLS_DATA', 'LINK'),\n",
       " ('SCHOOLS_DATA', 'LOCATION'),\n",
       " ('SCHOOLS_DATA', 'LONGITUDE'),\n",
       " ('SCHOOLS_DATA', 'NAME_OF_SCHOOL'),\n",
       " ('SCHOOLS_DATA', 'NETWORK_MANAGER'),\n",
       " ('SCHOOLS_DATA', 'NET_CHANGE_EXPLORE_AND_PLAN'),\n",
       " ('SCHOOLS_DATA', 'NET_CHANGE_PLAN_AND_ACT'),\n",
       " ('SCHOOLS_DATA', 'PARENT_ENGAGEMENT_ICON'),\n",
       " ('SCHOOLS_DATA', 'PARENT_ENGAGEMENT_SCORE'),\n",
       " ('SCHOOLS_DATA', 'PARENT_ENVIRONMENT_ICON'),\n",
       " ('SCHOOLS_DATA', 'PARENT_ENVIRONMENT_SCORE'),\n",
       " ('SCHOOLS_DATA', 'PHONE_NUMBER'),\n",
       " ('SCHOOLS_DATA', 'PK_2_LITERACY__'),\n",
       " ('SCHOOLS_DATA', 'PK_2_MATH__'),\n",
       " ('SCHOOLS_DATA', 'POLICE_DISTRICT'),\n",
       " ('SCHOOLS_DATA', 'RATE_OF_MISCONDUCTS__PER_100_STUDENTS_'),\n",
       " ('SCHOOLS_DATA', 'SAFETY_ICON'),\n",
       " ('SCHOOLS_DATA', 'SAFETY_SCORE'),\n",
       " ('SCHOOLS_DATA', 'SCHOOL_ID'),\n",
       " ('SCHOOLS_DATA', 'STATE'),\n",
       " ('SCHOOLS_DATA', 'STREET_ADDRESS'),\n",
       " ('SCHOOLS_DATA', 'STUDENTS_PASSING__ALGEBRA__'),\n",
       " ('SCHOOLS_DATA', 'STUDENTS_TAKING__ALGEBRA__'),\n",
       " ('SCHOOLS_DATA', 'TEACHERS_ICON'),\n",
       " ('SCHOOLS_DATA', 'TEACHERS_SCORE'),\n",
       " ('SCHOOLS_DATA', 'TRACK_SCHEDULE'),\n",
       " ('SCHOOLS_DATA', 'WARD'),\n",
       " ('SCHOOLS_DATA', 'X_COORDINATE'),\n",
       " ('SCHOOLS_DATA', 'Y_COORDINATE'),\n",
       " ('SCHOOLS_DATA', 'ZIP_CODE')]"
      ]
     },
     "execution_count": 69,
     "metadata": {},
     "output_type": "execute_result"
    }
   ],
   "source": [
    "%sql select tabname, colname from SYSCAT.COLUMNS where tabname = 'SCHOOLS_DATA'"
   ]
  },
  {
   "cell_type": "markdown",
   "metadata": {},
   "source": [
    "## Problems\n",
    "\n",
    "Now write and execute SQL queries to solve assignment problems\n",
    "\n",
    "### Problem 1\n",
    "\n",
    "##### Find the total number of crimes recorded in the CRIME table.\n"
   ]
  },
  {
   "cell_type": "code",
   "execution_count": 6,
   "metadata": {
    "tags": []
   },
   "outputs": [
    {
     "name": "stdout",
     "output_type": "stream",
     "text": [
      " * ibm_db_sa://zgx30761:***@824dfd4d-99de-440d-9991-629c01b3832d.bs2io90l08kqb1od8lcg.databases.appdomain.cloud:30119/BLUDB\n",
      "Done.\n"
     ]
    },
    {
     "data": {
      "text/html": [
       "<table>\n",
       "    <thead>\n",
       "        <tr>\n",
       "            <th>1</th>\n",
       "        </tr>\n",
       "    </thead>\n",
       "    <tbody>\n",
       "        <tr>\n",
       "            <td>533</td>\n",
       "        </tr>\n",
       "    </tbody>\n",
       "</table>"
      ],
      "text/plain": [
       "[(533,)]"
      ]
     },
     "execution_count": 6,
     "metadata": {},
     "output_type": "execute_result"
    }
   ],
   "source": [
    "%sql select count(case_number) from CRIME_DATA"
   ]
  },
  {
   "cell_type": "markdown",
   "metadata": {},
   "source": [
    "### Problem 2\n",
    "\n",
    "##### List community areas with per capita income less than 11000.\n"
   ]
  },
  {
   "cell_type": "code",
   "execution_count": 7,
   "metadata": {
    "tags": []
   },
   "outputs": [
    {
     "name": "stdout",
     "output_type": "stream",
     "text": [
      " * ibm_db_sa://zgx30761:***@824dfd4d-99de-440d-9991-629c01b3832d.bs2io90l08kqb1od8lcg.databases.appdomain.cloud:30119/BLUDB\n",
      "Done.\n"
     ]
    },
    {
     "data": {
      "text/html": [
       "<table>\n",
       "    <thead>\n",
       "        <tr>\n",
       "            <th>community_area_name</th>\n",
       "            <th>per_capita_income</th>\n",
       "        </tr>\n",
       "    </thead>\n",
       "    <tbody>\n",
       "        <tr>\n",
       "            <td>West Garfield Park</td>\n",
       "            <td>10934</td>\n",
       "        </tr>\n",
       "        <tr>\n",
       "            <td>South Lawndale</td>\n",
       "            <td>10402</td>\n",
       "        </tr>\n",
       "        <tr>\n",
       "            <td>Fuller Park</td>\n",
       "            <td>10432</td>\n",
       "        </tr>\n",
       "        <tr>\n",
       "            <td>Riverdale</td>\n",
       "            <td>8201</td>\n",
       "        </tr>\n",
       "    </tbody>\n",
       "</table>"
      ],
      "text/plain": [
       "[('West Garfield Park', 10934),\n",
       " ('South Lawndale', 10402),\n",
       " ('Fuller Park', 10432),\n",
       " ('Riverdale', 8201)]"
      ]
     },
     "execution_count": 7,
     "metadata": {},
     "output_type": "execute_result"
    }
   ],
   "source": [
    "%sql select community_area_name, per_capita_income from CENSUS_DATA where per_capita_income < 11000"
   ]
  },
  {
   "cell_type": "markdown",
   "metadata": {},
   "source": [
    "### Problem 3\n",
    "\n",
    "##### List all case numbers for crimes  involving minors?(children are not considered minors for the purposes of crime analysis)\n"
   ]
  },
  {
   "cell_type": "code",
   "execution_count": 8,
   "metadata": {
    "tags": []
   },
   "outputs": [
    {
     "name": "stdout",
     "output_type": "stream",
     "text": [
      " * ibm_db_sa://zgx30761:***@824dfd4d-99de-440d-9991-629c01b3832d.bs2io90l08kqb1od8lcg.databases.appdomain.cloud:30119/BLUDB\n",
      "Done.\n"
     ]
    },
    {
     "data": {
      "text/html": [
       "<table>\n",
       "    <thead>\n",
       "        <tr>\n",
       "            <th>case_number</th>\n",
       "            <th>iucr</th>\n",
       "        </tr>\n",
       "    </thead>\n",
       "    <tbody>\n",
       "        <tr>\n",
       "            <td>HL266884</td>\n",
       "            <td>2210</td>\n",
       "        </tr>\n",
       "        <tr>\n",
       "            <td>HK238408</td>\n",
       "            <td>2230</td>\n",
       "        </tr>\n",
       "    </tbody>\n",
       "</table>"
      ],
      "text/plain": [
       "[('HL266884', '2210'), ('HK238408', '2230')]"
      ]
     },
     "execution_count": 8,
     "metadata": {},
     "output_type": "execute_result"
    }
   ],
   "source": [
    "%sql select case_number, IUCR from CRIME_DATA where IUCR in ('1521','1531','1715','1840','2070','2210','2220','2230','2240','2251')"
   ]
  },
  {
   "cell_type": "markdown",
   "metadata": {},
   "source": [
    "### Problem 4\n",
    "\n",
    "##### List all kidnapping crimes involving a child?\n"
   ]
  },
  {
   "cell_type": "code",
   "execution_count": 9,
   "metadata": {
    "tags": []
   },
   "outputs": [
    {
     "name": "stdout",
     "output_type": "stream",
     "text": [
      " * ibm_db_sa://zgx30761:***@824dfd4d-99de-440d-9991-629c01b3832d.bs2io90l08kqb1od8lcg.databases.appdomain.cloud:30119/BLUDB\n",
      "Done.\n"
     ]
    },
    {
     "data": {
      "text/html": [
       "<table>\n",
       "    <thead>\n",
       "        <tr>\n",
       "            <th>case_number</th>\n",
       "            <th>description</th>\n",
       "            <th>iucr</th>\n",
       "        </tr>\n",
       "    </thead>\n",
       "    <tbody>\n",
       "        <tr>\n",
       "            <td>HN144152</td>\n",
       "            <td>CHILD ABDUCTION/STRANGER</td>\n",
       "            <td>1792</td>\n",
       "        </tr>\n",
       "    </tbody>\n",
       "</table>"
      ],
      "text/plain": [
       "[('HN144152', 'CHILD ABDUCTION/STRANGER', '1792')]"
      ]
     },
     "execution_count": 9,
     "metadata": {},
     "output_type": "execute_result"
    }
   ],
   "source": [
    "%sql select case_number, description, IUCR from CRIME_DATA where IUCR in ('1790','1792')"
   ]
  },
  {
   "cell_type": "markdown",
   "metadata": {},
   "source": [
    "### Problem 5\n",
    "\n",
    "##### What kinds of crimes were recorded at schools?\n"
   ]
  },
  {
   "cell_type": "code",
   "execution_count": 13,
   "metadata": {
    "tags": []
   },
   "outputs": [
    {
     "name": "stdout",
     "output_type": "stream",
     "text": [
      " * ibm_db_sa://zgx30761:***@824dfd4d-99de-440d-9991-629c01b3832d.bs2io90l08kqb1od8lcg.databases.appdomain.cloud:30119/BLUDB\n",
      "Done.\n"
     ]
    },
    {
     "data": {
      "text/html": [
       "<table>\n",
       "    <thead>\n",
       "        <tr>\n",
       "            <th>primary_type</th>\n",
       "            <th>description</th>\n",
       "            <th>location_description</th>\n",
       "        </tr>\n",
       "    </thead>\n",
       "    <tbody>\n",
       "        <tr>\n",
       "            <td>BATTERY</td>\n",
       "            <td>SIMPLE</td>\n",
       "            <td>SCHOOL, PUBLIC, GROUNDS</td>\n",
       "        </tr>\n",
       "        <tr>\n",
       "            <td>BATTERY</td>\n",
       "            <td>PRO EMP HANDS NO/MIN INJURY</td>\n",
       "            <td>SCHOOL, PUBLIC, BUILDING</td>\n",
       "        </tr>\n",
       "        <tr>\n",
       "            <td>BATTERY</td>\n",
       "            <td>SIMPLE</td>\n",
       "            <td>SCHOOL, PUBLIC, BUILDING</td>\n",
       "        </tr>\n",
       "        <tr>\n",
       "            <td>BATTERY</td>\n",
       "            <td>SIMPLE</td>\n",
       "            <td>SCHOOL, PUBLIC, BUILDING</td>\n",
       "        </tr>\n",
       "        <tr>\n",
       "            <td>BATTERY</td>\n",
       "            <td>SIMPLE</td>\n",
       "            <td>SCHOOL, PUBLIC, GROUNDS</td>\n",
       "        </tr>\n",
       "        <tr>\n",
       "            <td>CRIMINAL DAMAGE</td>\n",
       "            <td>TO VEHICLE</td>\n",
       "            <td>SCHOOL, PUBLIC, GROUNDS</td>\n",
       "        </tr>\n",
       "        <tr>\n",
       "            <td>NARCOTICS</td>\n",
       "            <td>POSS: HEROIN(WHITE)</td>\n",
       "            <td>SCHOOL, PUBLIC, GROUNDS</td>\n",
       "        </tr>\n",
       "        <tr>\n",
       "            <td>NARCOTICS</td>\n",
       "            <td>MANU/DEL:CANNABIS 10GM OR LESS</td>\n",
       "            <td>SCHOOL, PUBLIC, BUILDING</td>\n",
       "        </tr>\n",
       "        <tr>\n",
       "            <td>ASSAULT</td>\n",
       "            <td>PRO EMP HANDS NO/MIN INJURY</td>\n",
       "            <td>SCHOOL, PUBLIC, GROUNDS</td>\n",
       "        </tr>\n",
       "        <tr>\n",
       "            <td>CRIMINAL TRESPA</td>\n",
       "            <td>TO LAND</td>\n",
       "            <td>SCHOOL, PUBLIC, GROUNDS</td>\n",
       "        </tr>\n",
       "        <tr>\n",
       "            <td>PUBLIC PEACE VI</td>\n",
       "            <td>BOMB THREAT</td>\n",
       "            <td>SCHOOL, PRIVATE, BUILDING</td>\n",
       "        </tr>\n",
       "        <tr>\n",
       "            <td>PUBLIC PEACE VI</td>\n",
       "            <td>BOMB THREAT</td>\n",
       "            <td>SCHOOL, PUBLIC, BUILDING</td>\n",
       "        </tr>\n",
       "    </tbody>\n",
       "</table>"
      ],
      "text/plain": [
       "[('BATTERY', 'SIMPLE', 'SCHOOL, PUBLIC, GROUNDS'),\n",
       " ('BATTERY', 'PRO EMP HANDS NO/MIN INJURY', 'SCHOOL, PUBLIC, BUILDING'),\n",
       " ('BATTERY', 'SIMPLE', 'SCHOOL, PUBLIC, BUILDING'),\n",
       " ('BATTERY', 'SIMPLE', 'SCHOOL, PUBLIC, BUILDING'),\n",
       " ('BATTERY', 'SIMPLE', 'SCHOOL, PUBLIC, GROUNDS'),\n",
       " ('CRIMINAL DAMAGE', 'TO VEHICLE', 'SCHOOL, PUBLIC, GROUNDS'),\n",
       " ('NARCOTICS', 'POSS: HEROIN(WHITE)', 'SCHOOL, PUBLIC, GROUNDS'),\n",
       " ('NARCOTICS', 'MANU/DEL:CANNABIS 10GM OR LESS', 'SCHOOL, PUBLIC, BUILDING'),\n",
       " ('ASSAULT', 'PRO EMP HANDS NO/MIN INJURY', 'SCHOOL, PUBLIC, GROUNDS'),\n",
       " ('CRIMINAL TRESPA', 'TO LAND', 'SCHOOL, PUBLIC, GROUNDS'),\n",
       " ('PUBLIC PEACE VI', 'BOMB THREAT', 'SCHOOL, PRIVATE, BUILDING'),\n",
       " ('PUBLIC PEACE VI', 'BOMB THREAT', 'SCHOOL, PUBLIC, BUILDING')]"
      ]
     },
     "execution_count": 13,
     "metadata": {},
     "output_type": "execute_result"
    }
   ],
   "source": [
    "%sql select primary_type, description, location_description from CRIME_DATA where location_description like '%SCHOOL%'"
   ]
  },
  {
   "cell_type": "markdown",
   "metadata": {},
   "source": [
    "### Problem 6\n",
    "\n",
    "##### List the average safety score for each type of school.\n"
   ]
  },
  {
   "cell_type": "code",
   "execution_count": 14,
   "metadata": {
    "tags": []
   },
   "outputs": [
    {
     "name": "stdout",
     "output_type": "stream",
     "text": [
      " * ibm_db_sa://zgx30761:***@824dfd4d-99de-440d-9991-629c01b3832d.bs2io90l08kqb1od8lcg.databases.appdomain.cloud:30119/BLUDB\n",
      "Done.\n"
     ]
    },
    {
     "data": {
      "text/html": [
       "<table>\n",
       "    <thead>\n",
       "        <tr>\n",
       "            <th>elementary__middle__or_high_school</th>\n",
       "            <th>avg_safety</th>\n",
       "        </tr>\n",
       "    </thead>\n",
       "    <tbody>\n",
       "        <tr>\n",
       "            <td>ES</td>\n",
       "            <td>49</td>\n",
       "        </tr>\n",
       "        <tr>\n",
       "            <td>HS</td>\n",
       "            <td>49</td>\n",
       "        </tr>\n",
       "        <tr>\n",
       "            <td>MS</td>\n",
       "            <td>48</td>\n",
       "        </tr>\n",
       "    </tbody>\n",
       "</table>"
      ],
      "text/plain": [
       "[('ES', 49), ('HS', 49), ('MS', 48)]"
      ]
     },
     "execution_count": 14,
     "metadata": {},
     "output_type": "execute_result"
    }
   ],
   "source": [
    "%%sql\n",
    "select elementary__middle__or_high_school, avg(safety_score) as avg_safety from SCHOOLS_DATA\n",
    "group by elementary__middle__or_high_school"
   ]
  },
  {
   "cell_type": "markdown",
   "metadata": {},
   "source": [
    "### Problem 7\n",
    "\n",
    "##### List 5 community areas with highest % of households below poverty line\n"
   ]
  },
  {
   "cell_type": "code",
   "execution_count": 15,
   "metadata": {
    "tags": []
   },
   "outputs": [
    {
     "name": "stdout",
     "output_type": "stream",
     "text": [
      " * ibm_db_sa://zgx30761:***@824dfd4d-99de-440d-9991-629c01b3832d.bs2io90l08kqb1od8lcg.databases.appdomain.cloud:30119/BLUDB\n",
      "Done.\n"
     ]
    },
    {
     "data": {
      "text/html": [
       "<table>\n",
       "    <thead>\n",
       "        <tr>\n",
       "            <th>community_area_name</th>\n",
       "            <th>percent_households_below_poverty</th>\n",
       "        </tr>\n",
       "    </thead>\n",
       "    <tbody>\n",
       "        <tr>\n",
       "            <td>Riverdale</td>\n",
       "            <td>56.5</td>\n",
       "        </tr>\n",
       "        <tr>\n",
       "            <td>Fuller Park</td>\n",
       "            <td>51.2</td>\n",
       "        </tr>\n",
       "        <tr>\n",
       "            <td>Englewood</td>\n",
       "            <td>46.6</td>\n",
       "        </tr>\n",
       "        <tr>\n",
       "            <td>North Lawndale</td>\n",
       "            <td>43.1</td>\n",
       "        </tr>\n",
       "        <tr>\n",
       "            <td>East Garfield Park</td>\n",
       "            <td>42.4</td>\n",
       "        </tr>\n",
       "    </tbody>\n",
       "</table>"
      ],
      "text/plain": [
       "[('Riverdale', Decimal('56.5')),\n",
       " ('Fuller Park', Decimal('51.2')),\n",
       " ('Englewood', Decimal('46.6')),\n",
       " ('North Lawndale', Decimal('43.1')),\n",
       " ('East Garfield Park', Decimal('42.4'))]"
      ]
     },
     "execution_count": 15,
     "metadata": {},
     "output_type": "execute_result"
    }
   ],
   "source": [
    "%%sql\n",
    "select community_area_name, percent_households_below_poverty from CENSUS_DATA\n",
    "order by percent_households_below_poverty DESC LIMIT 5"
   ]
  },
  {
   "cell_type": "markdown",
   "metadata": {},
   "source": [
    "### Problem 8\n",
    "\n",
    "##### Which community area is most crime prone?\n"
   ]
  },
  {
   "cell_type": "code",
   "execution_count": 53,
   "metadata": {
    "tags": []
   },
   "outputs": [
    {
     "name": "stdout",
     "output_type": "stream",
     "text": [
      " * ibm_db_sa://zgx30761:***@824dfd4d-99de-440d-9991-629c01b3832d.bs2io90l08kqb1od8lcg.databases.appdomain.cloud:30119/BLUDB\n",
      "Done.\n"
     ]
    },
    {
     "data": {
      "text/html": [
       "<table>\n",
       "    <thead>\n",
       "        <tr>\n",
       "            <th>community_area_number</th>\n",
       "            <th>count_cases</th>\n",
       "        </tr>\n",
       "    </thead>\n",
       "    <tbody>\n",
       "        <tr>\n",
       "            <td>25</td>\n",
       "            <td>43</td>\n",
       "        </tr>\n",
       "    </tbody>\n",
       "</table>"
      ],
      "text/plain": [
       "[(25, 43)]"
      ]
     },
     "execution_count": 53,
     "metadata": {},
     "output_type": "execute_result"
    }
   ],
   "source": [
    "%%sql\n",
    "select community_area_number, count(case_number) as count_cases from CRIME_DATA\n",
    "group by community_area_number\n",
    "order by count_cases DESC NULLS LAST LIMIT 1"
   ]
  },
  {
   "cell_type": "markdown",
   "metadata": {},
   "source": [
    "Double-click **here** for a hint\n",
    "\n",
    "<!--\n",
    "Query for the 'community area number' that is most crime prone.\n",
    "-->\n"
   ]
  },
  {
   "cell_type": "markdown",
   "metadata": {},
   "source": [
    "### Problem 9\n",
    "\n",
    "##### Use a sub-query to find the name of the community area with highest hardship index\n"
   ]
  },
  {
   "cell_type": "code",
   "execution_count": 55,
   "metadata": {
    "tags": []
   },
   "outputs": [
    {
     "name": "stdout",
     "output_type": "stream",
     "text": [
      " * ibm_db_sa://zgx30761:***@824dfd4d-99de-440d-9991-629c01b3832d.bs2io90l08kqb1od8lcg.databases.appdomain.cloud:30119/BLUDB\n",
      "Done.\n"
     ]
    },
    {
     "data": {
      "text/html": [
       "<table>\n",
       "    <thead>\n",
       "        <tr>\n",
       "            <th>community_area_name</th>\n",
       "            <th>hardship_index</th>\n",
       "        </tr>\n",
       "    </thead>\n",
       "    <tbody>\n",
       "        <tr>\n",
       "            <td>Riverdale</td>\n",
       "            <td>98</td>\n",
       "        </tr>\n",
       "    </tbody>\n",
       "</table>"
      ],
      "text/plain": [
       "[('Riverdale', 98)]"
      ]
     },
     "execution_count": 55,
     "metadata": {},
     "output_type": "execute_result"
    }
   ],
   "source": [
    "%sql select community_area_name, hardship_index from CENSUS_DATA where hardship_index = (select max(hardship_index) from CENSUS_DATA)"
   ]
  },
  {
   "cell_type": "markdown",
   "metadata": {},
   "source": [
    "### Problem 10\n",
    "\n",
    "##### Use a sub-query to determine the Community Area Name with most number of crimes?\n"
   ]
  },
  {
   "cell_type": "code",
   "execution_count": 91,
   "metadata": {
    "tags": []
   },
   "outputs": [
    {
     "name": "stdout",
     "output_type": "stream",
     "text": [
      " * ibm_db_sa://zgx30761:***@824dfd4d-99de-440d-9991-629c01b3832d.bs2io90l08kqb1od8lcg.databases.appdomain.cloud:30119/BLUDB\n",
      "Done.\n"
     ]
    },
    {
     "data": {
      "text/html": [
       "<table>\n",
       "    <thead>\n",
       "        <tr>\n",
       "            <th>community_area_name</th>\n",
       "            <th>community_area_number</th>\n",
       "        </tr>\n",
       "    </thead>\n",
       "    <tbody>\n",
       "        <tr>\n",
       "            <td>Austin</td>\n",
       "            <td>25</td>\n",
       "        </tr>\n",
       "    </tbody>\n",
       "</table>"
      ],
      "text/plain": [
       "[('Austin', 25)]"
      ]
     },
     "execution_count": 91,
     "metadata": {},
     "output_type": "execute_result"
    }
   ],
   "source": [
    "%%sql\n",
    "select community_area_name, community_area_number from CENSUS_DATA where community_area_number = (\n",
    "    select community_area_number from CRIME_DATA\n",
    "    group by community_area_number\n",
    "    order by count(case_number) DESC NULLS LAST LIMIT 1\n",
    "    )"
   ]
  },
  {
   "cell_type": "markdown",
   "metadata": {},
   "source": [
    "Copyright © 2020 This notebook and its source code are released under the terms of the [MIT License](https://bigdatauniversity.com/mit-license?utm_medium=Exinfluencer&utm_source=Exinfluencer&utm_content=000026UJ&utm_term=10006555&utm_id=NA-SkillsNetwork-Channel-SkillsNetworkCoursesIBMDeveloperSkillsNetworkDB0201ENSkillsNetwork20127838-2021-01-01&cm_mmc=Email_Newsletter-_-Developer_Ed%2BTech-_-WW_WW-_-SkillsNetwork-Courses-IBMDeveloperSkillsNetwork-DB0201EN-SkillsNetwork-20127838&cm_mmca1=000026UJ&cm_mmca2=10006555&cm_mmca3=M12345678&cvosrc=email.Newsletter.M12345678&cvo_campaign=000026UJ).\n"
   ]
  },
  {
   "cell_type": "markdown",
   "metadata": {},
   "source": [
    "## Author(s)\n",
    "\n",
    "<h4> Hima Vasudevan </h4>\n",
    "<h4> Rav Ahuja </h4>\n",
    "<h4> Ramesh Sannreddy </h4>\n",
    "\n",
    "## Contribtuor(s)\n",
    "\n",
    "<h4> Malika Singla </h4>\n",
    "\n",
    "## Change log\n",
    "\n",
    "| Date       | Version | Changed by        | Change Description                             |\n",
    "| ---------- | ------- | ----------------- | ---------------------------------------------- |\n",
    "| 2022-03-04 | 2.5     | Lakshmi Holla     | Changed markdown.                   |\n",
    "| 2021-05-19 | 2.4     | Lakshmi Holla     | Updated the question                           |\n",
    "| 2021-04-30 | 2.3     | Malika Singla     | Updated the libraries                          |\n",
    "| 2021-01-15 | 2.2     | Rav Ahuja         | Removed problem 11 and fixed changelog         |\n",
    "| 2020-11-25 | 2.1     | Ramesh Sannareddy | Updated the problem statements, and datasets   |\n",
    "| 2020-09-05 | 2.0     | Malika Singla     | Moved lab to course repo in GitLab             |\n",
    "| 2018-07-18 | 1.0     | Rav Ahuja         | Several updates including loading instructions |\n",
    "| 2018-05-04 | 0.1     | Hima Vasudevan    | Created initial version                        |\n",
    "\n",
    "## <h3 align=\"center\"> © IBM Corporation 2020. All rights reserved. <h3/>\n"
   ]
  }
 ],
 "metadata": {
  "kernelspec": {
   "display_name": "Python",
   "language": "python",
   "name": "conda-env-python-py"
  },
  "language_info": {
   "codemirror_mode": {
    "name": "ipython",
    "version": 3
   },
   "file_extension": ".py",
   "mimetype": "text/x-python",
   "name": "python",
   "nbconvert_exporter": "python",
   "pygments_lexer": "ipython3",
   "version": "3.7.12"
  }
 },
 "nbformat": 4,
 "nbformat_minor": 4
}
